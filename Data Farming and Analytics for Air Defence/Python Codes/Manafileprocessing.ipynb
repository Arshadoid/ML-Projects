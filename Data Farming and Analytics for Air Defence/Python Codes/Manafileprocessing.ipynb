{
 "cells": [
  {
   "cell_type": "markdown",
   "id": "f94da906",
   "metadata": {},
   "source": [
    "# Program to process and combine outputs of each run and save as .CSV file (for each missile x interceptor combination)"
   ]
  },
  {
   "cell_type": "markdown",
   "id": "a09aba04",
   "metadata": {},
   "source": [
    "#### Import libraries "
   ]
  },
  {
   "cell_type": "code",
   "execution_count": 11,
   "id": "1f696aca",
   "metadata": {},
   "outputs": [],
   "source": [
    "import pandas as pd\n",
    "from tkinter import Tk, filedialog\n",
    "import os\n",
    "from xml.dom import minidom"
   ]
  },
  {
   "cell_type": "markdown",
   "id": "1a5f16d8",
   "metadata": {},
   "source": [
    "#### Get the path to directory of files"
   ]
  },
  {
   "cell_type": "code",
   "execution_count": 12,
   "id": "7daafac4",
   "metadata": {},
   "outputs": [],
   "source": [
    "def getDirectory():\n",
    "    root = Tk() # pointing root to Tk() to use it as Tk() in program.\n",
    "    root.withdraw() # Hides small tkinter window.\n",
    "    root.attributes('-topmost', True) # Opened windows will be active. above all windows despite of selection.\n",
    "    dir_path = filedialog.askdirectory(title='Select folder containing the files and subfolders') # Returns opened path as str\n",
    "    print(\"\\nSelected directory is:\\n\", dir_path)\n",
    "    return dir_path"
   ]
  },
  {
   "cell_type": "markdown",
   "id": "ae4f3dc5",
   "metadata": {},
   "source": [
    "#### Ask where to save final result in CSV format"
   ]
  },
  {
   "cell_type": "code",
   "execution_count": 13,
   "id": "23088cfd",
   "metadata": {},
   "outputs": [],
   "source": [
    "def saveFile():\n",
    "    root = Tk() # pointing root to Tk() to use it as Tk() in program.\n",
    "    root.withdraw() # Hides small tkinter window.\n",
    "    root.attributes('-topmost', True) # Opened windows will be active. above all windows despite of selection.\n",
    "    types=[('CSV types(*.csv)','*.csv')]\n",
    "    save_path = filedialog.asksaveasfile(title='Where to save(Specify file name)',\n",
    "                                         filetypes = types, \n",
    "                                         defaultextension = types) # Returns opened path as str\n",
    "    print(\"\\nSelected folder to save is:\\n\", save_path.name)\n",
    "    return save_path.name"
   ]
  },
  {
   "cell_type": "markdown",
   "id": "7a6a386c",
   "metadata": {},
   "source": [
    "#### Get the list of all files(with their path) in the direcotry"
   ]
  },
  {
   "cell_type": "code",
   "execution_count": 4,
   "id": "614b0f43",
   "metadata": {},
   "outputs": [],
   "source": [
    "def filesList(directory): \n",
    "    \n",
    "    # Get the list of all files in directory tree at given path\n",
    "    listOfFiles = list()\n",
    "    for (dirpath, dirnames, filenames) in os.walk(directory):\n",
    "        listOfFiles += [os.path.join(dirpath, file) for file in filenames]\n",
    "    print(\"\\nThere are \"+str(len(listOfFiles))+ \" files in the directory\")\n",
    "    return listOfFiles"
   ]
  },
  {
   "cell_type": "markdown",
   "id": "5e953e89",
   "metadata": {},
   "source": [
    "#### Extract the list of XML file names from listOfFiles"
   ]
  },
  {
   "cell_type": "code",
   "execution_count": 5,
   "id": "63f5e625",
   "metadata": {},
   "outputs": [],
   "source": [
    "def extractXMLFiles(listOfFiles):\n",
    "    xmlFilesNameList = list()\n",
    "    xmlFilesList = list()\n",
    "    for file in listOfFiles:\n",
    "        if os.path.splitext(file)[1] == '.xml':\n",
    "            xmlFilesNameList += [os.path.basename(os.path.splitext(file)[0])]\n",
    "            xmlFilesList +=[file] \n",
    "    print('\\nThere are ' + str(len(xmlFilesNameList)) + ' XML files\\n')\n",
    "    return xmlFilesNameList, xmlFilesList"
   ]
  },
  {
   "cell_type": "markdown",
   "id": "dbd77c30",
   "metadata": {},
   "source": [
    "#### Make the list of csv files located in the directory"
   ]
  },
  {
   "cell_type": "code",
   "execution_count": 6,
   "id": "a620428c",
   "metadata": {},
   "outputs": [],
   "source": [
    "def extractCSVFiles(listOfFiles):\n",
    "    csvFilesNameList = list()\n",
    "    csvFilesList = list()\n",
    "    for file in listOfFiles:\n",
    "        if os.path.splitext(file)[1] == '.csv':\n",
    "            csvFilesNameList += [os.path.basename(os.path.splitext(file)[0])]\n",
    "            csvFilesList +=[file] \n",
    "    print('\\nThere are ' + str(len(csvFilesNameList)) + ' CSV files\\n')\n",
    "    return csvFilesNameList, csvFilesList "
   ]
  },
  {
   "cell_type": "markdown",
   "id": "0d60ff27",
   "metadata": {},
   "source": [
    "#### Function to extract file name"
   ]
  },
  {
   "cell_type": "code",
   "execution_count": 7,
   "id": "0a93e4aa",
   "metadata": {},
   "outputs": [],
   "source": [
    "def getFileName(file):\n",
    "    return str(os.path.basename(os.path.splitext(file)[0]))"
   ]
  },
  {
   "cell_type": "markdown",
   "id": "96f061f5",
   "metadata": {},
   "source": [
    "#### Function to process given CSV file as required"
   ]
  },
  {
   "cell_type": "code",
   "execution_count": 8,
   "id": "3fd506d6",
   "metadata": {},
   "outputs": [],
   "source": [
    "def processCSV(file):\n",
    "    #open the file\n",
    "    infile = open(file, \"r\")\n",
    "    \n",
    "    # read content\n",
    "    content = infile.readlines()\n",
    "    infile.close()\n",
    "    \n",
    "    new_content=[]\n",
    "        \n",
    "    # Getting the name of the file\n",
    "    ##filename= ((content[3]).split('\\\\')[-1]).strip()\n",
    "    \n",
    "    # Getting only the required lines from the output file\n",
    "    for line in content[5:16]:\n",
    "        strippedLine=line.strip()\n",
    "        new_content.append(strippedLine)\n",
    "    \n",
    "    # Making DataFrame from the cleaned output data\n",
    "    data = pd.DataFrame([sub.split(\",\") for sub in new_content])    \n",
    "    new_header = data.iloc[0] #grab the first row for the header\n",
    "    data = data[1:] #take the data less the header row\n",
    "    data.columns = new_header #set the header row as the df header\n",
    "    \n",
    "    # Adding filename(Scenario) name as a new feature \n",
    "    data['Scenario Name']=getFileName(file)\n",
    "    \n",
    "    return data"
   ]
  },
  {
   "cell_type": "markdown",
   "id": "19c14448",
   "metadata": {},
   "source": [
    "#### Function to get required parameters from the given XML configuration file and them to the given DataFrame"
   ]
  },
  {
   "cell_type": "code",
   "execution_count": 9,
   "id": "b1479974",
   "metadata": {},
   "outputs": [],
   "source": [
    "def readXML(file, data):\n",
    "    \n",
    "    XMLObj = minidom.parse(file)\n",
    "    \n",
    "    # Missile Quantity\n",
    "    missileQTY=0\n",
    "\n",
    "    for squad in XMLObj.getElementsByTagName('Squad'):\n",
    "        for index in squad.getElementsByTagName('index'):\n",
    "            if int(index.firstChild.data) in [10,11,12]:\n",
    "                for agents in squad.getElementsByTagName('NumAgents'):\n",
    "                    missileQTY+=int(agents.firstChild.data)\n",
    "    \n",
    "    # Stealth number for each missile class(10,11,12)\n",
    "    \n",
    "    missileStealth=[]\n",
    "\n",
    "    for squad in XMLObj.getElementsByTagName('Squad'):\n",
    "        for index in squad.getElementsByTagName('index'):\n",
    "            if int(index.firstChild.data) in [10,11,12]:\n",
    "                for state in squad.getElementsByTagName('state'):\n",
    "                    for stealth in state.getElementsByTagName('Stealth'):\n",
    "                        missileStealth.append(int(stealth.firstChild.data))\n",
    "    missileClass_10_Stealth = missileStealth[0]\n",
    "    missileClass_11_Stealth = missileStealth[1]\n",
    "    missileClass_12_Stealth = missileStealth[2]\n",
    "    \n",
    "    # Asset quantity\n",
    "    \n",
    "    assetQTY=0\n",
    "\n",
    "    for squad in XMLObj.getElementsByTagName('Squad'):\n",
    "        for index in squad.getElementsByTagName('index'):\n",
    "            if int(index.firstChild.data) in [1,2,3]:\n",
    "                for agents in squad.getElementsByTagName('NumAgents'):\n",
    "                    assetQTY+=int(agents.firstChild.data)\n",
    "    \n",
    "    \n",
    "    # Interceptor Quantity\n",
    "    interceptorQTY=0\n",
    "\n",
    "    for squad in XMLObj.getElementsByTagName('Squad'):\n",
    "        for index in squad.getElementsByTagName('index'):\n",
    "            if int(index.firstChild.data) in [7,8,9]:\n",
    "                for agents in squad.getElementsByTagName('NumAgents'):\n",
    "                    interceptorQTY+=int(agents.firstChild.data)\n",
    "    \n",
    "    #Interceptor Sensor Range\n",
    "    interceptorSensorRange=0\n",
    "\n",
    "    for squad in XMLObj.getElementsByTagName('Squad'):\n",
    "        for index in squad.getElementsByTagName('index'):\n",
    "            if int(index.firstChild.data)==7:\n",
    "                for state in squad.getElementsByTagName('state'):\n",
    "                    for statename in state.getElementsByTagName('StateName'):\n",
    "                        if statename.firstChild.data == ' Default State ': \n",
    "                            for sensorstate in state.getElementsByTagName('SensorState'):\n",
    "                                for sensorstate in state.getElementsByTagName('SensorState'):\n",
    "                                    for sensstclass in sensorstate.getElementsByTagName('SensStClass'):\n",
    "                                        interceptorSensorRange = int(sensstclass.firstChild.data)\n",
    "\n",
    "    # Interceptor Movement Speed\n",
    "    interceptorMovementSpeed=0\n",
    "\n",
    "    for squad in XMLObj.getElementsByTagName('Squad'):\n",
    "        for index in squad.getElementsByTagName('index'):\n",
    "            if int(index.firstChild.data)==7:\n",
    "                for state in squad.getElementsByTagName('state'):\n",
    "                    for statename in state.getElementsByTagName('StateName'):\n",
    "                        if statename.firstChild.data == ' Contact State ': \n",
    "                            for ranges in state.getElementsByTagName('range'):\n",
    "                                for rangename in ranges.getElementsByTagName('RangeName'):\n",
    "                                    if rangename.firstChild.data == ' Movement Speed   ':\n",
    "                                        for rangevalue in ranges.getElementsByTagName('RangeVal'):\n",
    "                                            interceptorMovementSpeed = int(rangevalue.firstChild.data)\n",
    "      \n",
    "    # Interceptor Hit probability\n",
    "    interceptorHitProbability=0\n",
    "\n",
    "    for squad in XMLObj.getElementsByTagName('Squad'):\n",
    "        for index in squad.getElementsByTagName('index'):\n",
    "            if int(index.firstChild.data)==7:\n",
    "                for state in squad.getElementsByTagName('state'):\n",
    "                    for statename in state.getElementsByTagName('StateName'):\n",
    "                        if statename.firstChild.data == ' Contact State ': \n",
    "                            for weaponstate in state.getElementsByTagName('WeaponState'):\n",
    "                                for sskptable in weaponstate.getElementsByTagName('sskpTable'):\n",
    "                                    for sskptablepoint in sskptable.getElementsByTagName('sskpTablePoint'): \n",
    "                                        for sskptableprob in sskptablepoint.getElementsByTagName('sskpTableProb'): \n",
    "                                            interceptorHitProbability=float(sskptableprob.firstChild.data)/10000\n",
    " \n",
    "    data['Asset Amount']= assetQTY\n",
    "    data['Missile Quantity'] = missileQTY\n",
    "    data['Missile Class_10 Stealth'] = missileClass_10_Stealth\n",
    "    data['Missile Class_11 Stealth'] = missileClass_11_Stealth\n",
    "    data['Missile Class_12 Stealth'] = missileClass_12_Stealth\n",
    "    data['Interceptor Quantity'] = interceptorQTY\n",
    "    data['Interceptor Sensor Range'] = interceptorSensorRange\n",
    "    data['Interceptor Speed'] = interceptorMovementSpeed\n",
    "    data['Interceptor Hit Probability'] = interceptorHitProbability                              \n",
    "        \n",
    "    return data   "
   ]
  },
  {
   "cell_type": "markdown",
   "id": "a48c092f",
   "metadata": {},
   "source": [
    "### Main part of the Program which calls above functions and does the iteration"
   ]
  },
  {
   "cell_type": "code",
   "execution_count": 45,
   "id": "c7a99168",
   "metadata": {},
   "outputs": [
    {
     "name": "stdout",
     "output_type": "stream",
     "text": [
      "\n",
      "Selected directory is:\n",
      "  C:/Users/arsha/OneDrive - Carleton University/DATA 5000/MANA/Scenarios/3x3\n",
      "\n",
      "Selected folder to save is:\n",
      " <_io.TextIOWrapper name='C:/Users/arsha/OneDrive - Carleton University/DATA 5000/MANA/Scenarios/Final Results/3x3_final.csv' mode='w' encoding='cp1252'>\n",
      "\n",
      "There are 803 files in the directory\n",
      "\n",
      "There are 401 XML files\n",
      "\n",
      "\n",
      "There are 396 CSV files\n",
      "\n",
      "Processed 79 out of 396\n",
      "Processed 158 out of 396\n",
      "Total of 159 csv files were processed\n"
     ]
    }
   ],
   "source": [
    "dataFrameList =list()\n",
    "\n",
    "# Get the path to directory of files\n",
    "dir_path = getDirectory()\n",
    "\n",
    "# Ask where to save final result in CSV format\n",
    "savePath = saveFile()\n",
    "\n",
    "# Get the list of all files(with their path) in the direcotry\n",
    "listOfFiles = filesList(dir_path)\n",
    "\n",
    "# Extract the list of XML file names from listOfFiles\n",
    "xmlFilesNameList, xmlFilesList = extractXMLFiles(listOfFiles)\n",
    "\n",
    "# Make the list of csv files located in the directory\n",
    "csvFilesNameList, csvFilesList = extractCSVFiles(listOfFiles)\n",
    "\n",
    "\n",
    "#process counter\n",
    "pCntr=0 \n",
    "step = len(csvFilesList)//5\n",
    "# Check if csv file has matching XML file \n",
    "for file in csvFilesList:\n",
    "    if (getFileName(file) in xmlFilesNameList and \n",
    "        len(getFileName(file))>9):\n",
    "        pCntr+=1\n",
    "\n",
    "        # Process the CSV file, convert to DataFrame and add filename as column\n",
    "        data = processCSV(file)\n",
    "\n",
    "        # Read respective XML file and add required information to the dataframe\n",
    "        index = xmlFilesNameList.index(getFileName(file))\n",
    "        data = readXML(xmlFilesList[index],data)\n",
    "\n",
    "        # Add dataframe to the list\n",
    "        dataFrameList.append(data)\n",
    "        if pCntr==step:\n",
    "            print('Processed ' + str(pCntr)+ ' out of ' + str(len(xmlFilesList)))\n",
    "            step+=step\n",
    "#print(len(dataFrameList))\n",
    "\n",
    "# Stacking (merging) all dataframes    \n",
    "finalDataFrame = pd.concat(dataFrameList)\n",
    "\n",
    "#list of columns to drop\n",
    "columnsToDrop=[' Sqd1Inj',' Sqd2Inj',' Sqd3Inj',' Sqd4Inj',' Sqd5Inj',\n",
    "               ' Sqd6Inj',' Sqd7Inj',' Sqd8Inj',' Sqd9Inj',' Sqd10Inj',\n",
    "               ' Sqd11Inj',' Sqd12Inj']\n",
    "\n",
    "\n",
    "#dropping not required columns\n",
    "finalDataFrame = finalDataFrame.drop(columns=columnsToDrop)\n",
    "\n",
    "# adding new column \"AssetSurvivalRate\"\n",
    "sqd1Cas = pd.to_numeric(finalDataFrame[' Sqd1Cas'])\n",
    "sqd2Cas = pd.to_numeric(finalDataFrame[' Sqd2Cas'])\n",
    "sqd3Cas = pd.to_numeric(finalDataFrame[' Sqd3Cas'])\n",
    "totalAssetCas = sqd1Cas +sqd2Cas +sqd3Cas                                                     \n",
    "\n",
    "finalDataFrame['AssetSurvivalRate'] = round(1-totalAssetCas/pd.to_numeric(finalDataFrame['Asset Amount']),2)\n",
    "\n",
    "# Convert final dataframe to CSV and export\n",
    "\n",
    "\n",
    "finalDataFrame.to_csv(savePath, index=False, line_terminator='\\n')\n",
    "\n",
    "print(\"Total of \" + str(pCntr) + \" csv files were processed\")"
   ]
  },
  {
   "cell_type": "markdown",
   "id": "3aacfbb6",
   "metadata": {},
   "source": [
    "# Program to select and combine multiple .CSV result files into  a single final .CSV "
   ]
  },
  {
   "cell_type": "code",
   "execution_count": 14,
   "id": "627a09cd",
   "metadata": {
    "scrolled": true
   },
   "outputs": [
    {
     "name": "stdout",
     "output_type": "stream",
     "text": [
      "\n",
      "Selected directory is:\n",
      " C:/Users/arsha/OneDrive - Carleton University/DATA 5000/MANA/Scenarios/Final Scenario Results\n",
      "\n",
      "Selected folder to save is:\n",
      " C:/Users/arsha/OneDrive - Carleton University/DATA 5000/MANA/Scenarios/Final Dataset/FinalFullDataSet.csv\n",
      "\n",
      "There are 18 files in the directory\n",
      "\n",
      "There are 18 CSV files\n",
      "\n"
     ]
    }
   ],
   "source": [
    "# Get the path to directory of files\n",
    "dir_path = getDirectory()\n",
    "\n",
    "# Ask where to save final result in CSV format\n",
    "savePath = saveFile()\n",
    "\n",
    "# Get the list of all files(with their path) in the direcotry\n",
    "listOfFiles = filesList(dir_path)\n",
    "\n",
    "# Make the list of csv files located in the directory\n",
    "csvFilesNameList, csvFilesList = extractCSVFiles(listOfFiles)\n",
    "\n",
    "#combining all of the files in the list\n",
    "dataFrameList =[pd.read_csv(file) for file in csvFilesList]\n",
    "combinedFinalData = pd.concat([file for file in dataFrameList])\n",
    "\n",
    "# exporting csv file\n",
    "combinedFinalData.to_csv(savePath, index=False, line_terminator='\\n')\n"
   ]
  },
  {
   "cell_type": "code",
   "execution_count": 16,
   "id": "a910d554",
   "metadata": {},
   "outputs": [
    {
     "name": "stdout",
     "output_type": "stream",
     "text": [
      "<class 'pandas.core.frame.DataFrame'>\n",
      "Int64Index: 71820 entries, 0 to 3959\n",
      "Data columns (total 30 columns):\n",
      " #   Column                       Non-Null Count  Dtype  \n",
      "---  ------                       --------------  -----  \n",
      " 0   Run                          71820 non-null  int64  \n",
      " 1   Seed                         71820 non-null  int64  \n",
      " 2   Alleg1Cas(Blue)              71820 non-null  int64  \n",
      " 3   Alleg2Cas(Red)               71820 non-null  int64  \n",
      " 4   Blue Reach Goal              71820 non-null  object \n",
      " 5   Red Reach Goal               71820 non-null  object \n",
      " 6   Steps                        71820 non-null  int64  \n",
      " 7    Sqd1Cas                     71820 non-null  int64  \n",
      " 8    Sqd2Cas                     71820 non-null  int64  \n",
      " 9    Sqd3Cas                     71820 non-null  int64  \n",
      " 10   Sqd4Cas                     71820 non-null  int64  \n",
      " 11   Sqd5Cas                     71820 non-null  int64  \n",
      " 12   Sqd6Cas                     71820 non-null  int64  \n",
      " 13   Sqd7Cas                     71820 non-null  int64  \n",
      " 14   Sqd8Cas                     71820 non-null  int64  \n",
      " 15   Sqd9Cas                     71820 non-null  int64  \n",
      " 16   Sqd10Cas                    71820 non-null  int64  \n",
      " 17   Sqd11Cas                    71820 non-null  int64  \n",
      " 18   Sqd12Cas                    71820 non-null  int64  \n",
      " 19  Scenario Name                71820 non-null  object \n",
      " 20  Asset Amount                 71820 non-null  int64  \n",
      " 21  Missile Quantity             71820 non-null  int64  \n",
      " 22  Missile Class_10 Stealth     71820 non-null  int64  \n",
      " 23  Missile Class_11 Stealth     71820 non-null  int64  \n",
      " 24  Missile Class_12 Stealth     71820 non-null  int64  \n",
      " 25  Interceptor Quantity         71820 non-null  int64  \n",
      " 26  Interceptor Sensor Range     71820 non-null  int64  \n",
      " 27  Interceptor Speed            71820 non-null  int64  \n",
      " 28  Interceptor Hit Probability  71820 non-null  float64\n",
      " 29  AssetSurvivalRate            71820 non-null  float64\n",
      "dtypes: float64(2), int64(25), object(3)\n",
      "memory usage: 17.0+ MB\n"
     ]
    }
   ],
   "source": [
    "combinedFinalData.info()"
   ]
  }
 ],
 "metadata": {
  "kernelspec": {
   "display_name": "Python 3 (ipykernel)",
   "language": "python",
   "name": "python3"
  },
  "language_info": {
   "codemirror_mode": {
    "name": "ipython",
    "version": 3
   },
   "file_extension": ".py",
   "mimetype": "text/x-python",
   "name": "python",
   "nbconvert_exporter": "python",
   "pygments_lexer": "ipython3",
   "version": "3.9.7"
  }
 },
 "nbformat": 4,
 "nbformat_minor": 5
}
