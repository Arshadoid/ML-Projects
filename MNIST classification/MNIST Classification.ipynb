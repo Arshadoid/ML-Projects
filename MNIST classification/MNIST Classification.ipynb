{
 "cells": [
  {
   "cell_type": "markdown",
   "id": "21ef8eb2",
   "metadata": {},
   "source": [
    "### Importing main libraries"
   ]
  },
  {
   "cell_type": "code",
   "execution_count": 101,
   "id": "9d73fca9",
   "metadata": {},
   "outputs": [],
   "source": [
    "import numpy as np\n",
    "import pandas as pd\n",
    "import random\n",
    "import matplotlib.pyplot as plt\n",
    "from tensorflow.keras.datasets import mnist\n",
    "from sklearn.preprocessing import OneHotEncoder\n",
    "from sklearn import tree, metrics\n",
    "from sklearn.neighbors import KNeighborsClassifier\n",
    "from sklearn.naive_bayes import GaussianNB\n",
    "from sklearn.svm import SVC, LinearSVC\n",
    "from sklearn.ensemble import VotingClassifier"
   ]
  },
  {
   "cell_type": "markdown",
   "id": "1857cf93",
   "metadata": {},
   "source": [
    "### Loading MNIST data "
   ]
  },
  {
   "cell_type": "code",
   "execution_count": 3,
   "id": "c1208c65",
   "metadata": {},
   "outputs": [],
   "source": [
    "data = mnist.load_data()"
   ]
  },
  {
   "cell_type": "code",
   "execution_count": 4,
   "id": "7f0a2440",
   "metadata": {},
   "outputs": [],
   "source": [
    "(trainX, trainy), (X_test, Y_test) = data"
   ]
  },
  {
   "cell_type": "markdown",
   "id": "58dad5ed",
   "metadata": {},
   "source": [
    "### Data split into Train, Valdiation and Test sets, and flattining of feature vectors"
   ]
  },
  {
   "cell_type": "code",
   "execution_count": 5,
   "id": "4fab9437",
   "metadata": {},
   "outputs": [],
   "source": [
    "X_train = trainX[:55000,:,:]\n",
    "X_validation = trainX[55000:,:,:]\n",
    "Y_train = trainy[:55000]\n",
    "Y_validation = trainy[55000:]"
   ]
  },
  {
   "cell_type": "code",
   "execution_count": 6,
   "id": "0358558e",
   "metadata": {},
   "outputs": [],
   "source": [
    "X_train_flt = X_train.reshape(X_train.shape[0],X_train[0,:,:].size)\n",
    "X_validation_flt = X_validation.reshape(X_validation.shape[0], X_validation[0,:,:].size)\n",
    "X_test_flt = X_test.reshape(X_test.shape[0], X_test[0,:,:].size)"
   ]
  },
  {
   "cell_type": "code",
   "execution_count": 119,
   "id": "7923e014",
   "metadata": {
    "scrolled": true
   },
   "outputs": [
    {
     "data": {
      "text/plain": [
       "(55000, 784)"
      ]
     },
     "execution_count": 119,
     "metadata": {},
     "output_type": "execute_result"
    }
   ],
   "source": [
    "X_train_flt.shape"
   ]
  },
  {
   "cell_type": "code",
   "execution_count": 299,
   "id": "1c8f4757",
   "metadata": {},
   "outputs": [
    {
     "data": {
      "text/plain": [
       "(5000, 784)"
      ]
     },
     "execution_count": 299,
     "metadata": {},
     "output_type": "execute_result"
    }
   ],
   "source": [
    "X_validation_flt.shape"
   ]
  },
  {
   "cell_type": "code",
   "execution_count": 120,
   "id": "6db971f0",
   "metadata": {},
   "outputs": [],
   "source": [
    "full_X_train=np.concatenate((X_train_flt,X_validation_flt))\n",
    "full_Y_train=np.concatenate((Y_train,Y_validation))"
   ]
  },
  {
   "cell_type": "code",
   "execution_count": 118,
   "id": "109350e7",
   "metadata": {},
   "outputs": [
    {
     "data": {
      "text/plain": [
       "(60000, 784)"
      ]
     },
     "execution_count": 118,
     "metadata": {},
     "output_type": "execute_result"
    }
   ],
   "source": [
    "full_X_train.shape"
   ]
  },
  {
   "cell_type": "code",
   "execution_count": 121,
   "id": "92b90f69",
   "metadata": {},
   "outputs": [
    {
     "data": {
      "text/plain": [
       "(60000,)"
      ]
     },
     "execution_count": 121,
     "metadata": {},
     "output_type": "execute_result"
    }
   ],
   "source": [
    "full_Y_train.shape"
   ]
  },
  {
   "cell_type": "markdown",
   "id": "b3ece326",
   "metadata": {},
   "source": [
    "### (Not required for this) Encoding labels wiht OneHotEncoder"
   ]
  },
  {
   "cell_type": "code",
   "execution_count": 18,
   "id": "43f289af",
   "metadata": {},
   "outputs": [],
   "source": [
    "ohe = OneHotEncoder(sparse=False, handle_unknown='ignore')\n",
    "Y_train_encd = ohe.fit_transform(Y_train.reshape(-1,1)) \n",
    "Y_validation_encd = ohe.fit_transform(Y_validation.reshape(-1,1))\n",
    "Y_test_encd = ohe.fit_transform(Y_test.reshape(-1,1)) "
   ]
  },
  {
   "cell_type": "markdown",
   "id": "0f0c5099",
   "metadata": {},
   "source": [
    "## Training Decision Tree Classifier"
   ]
  },
  {
   "cell_type": "code",
   "execution_count": 33,
   "id": "f8a40535",
   "metadata": {},
   "outputs": [],
   "source": [
    "clf_DT=tree.DecisionTreeClassifier(criterion='gini')"
   ]
  },
  {
   "cell_type": "code",
   "execution_count": 34,
   "id": "e70a5c98",
   "metadata": {},
   "outputs": [],
   "source": [
    "clf_DT = clf_DT.fit(X_train_flt,Y_train)"
   ]
  },
  {
   "cell_type": "code",
   "execution_count": 35,
   "id": "09225ec8",
   "metadata": {},
   "outputs": [],
   "source": [
    "Y_valid_pred = clf_DT.predict(X_validation_flt)"
   ]
  },
  {
   "cell_type": "markdown",
   "id": "7be81a16",
   "metadata": {},
   "source": [
    "### Performance check on Validation set\n",
    "#### Performance with \"gini\" criterion with best split "
   ]
  },
  {
   "cell_type": "code",
   "execution_count": 36,
   "id": "00bbf131",
   "metadata": {},
   "outputs": [
    {
     "data": {
      "text/plain": [
       "0.8892"
      ]
     },
     "execution_count": 36,
     "metadata": {},
     "output_type": "execute_result"
    }
   ],
   "source": [
    "clf_DT=tree.DecisionTreeClassifier(criterion='gini')\n",
    "clf_DT = clf_DT.fit(X_train_flt,Y_train)\n",
    "Y_valid_pred = clf_DT.predict(X_validation_flt)\n",
    "metrics.accuracy_score(Y_validation,Y_valid_pred)"
   ]
  },
  {
   "cell_type": "markdown",
   "id": "05bb913d",
   "metadata": {},
   "source": [
    "#### Performance with \"entropy\" criterion wiht best split"
   ]
  },
  {
   "cell_type": "code",
   "execution_count": 37,
   "id": "356b3eb3",
   "metadata": {},
   "outputs": [
    {
     "data": {
      "text/plain": [
       "0.8982"
      ]
     },
     "execution_count": 37,
     "metadata": {},
     "output_type": "execute_result"
    }
   ],
   "source": [
    "clf_DT=tree.DecisionTreeClassifier(criterion='entropy')\n",
    "clf_DT = clf_DT.fit(X_train_flt,Y_train)\n",
    "Y_valid_pred = clf_DT.predict(X_validation_flt)\n",
    "metrics.accuracy_score(Y_validation,Y_valid_pred)"
   ]
  },
  {
   "cell_type": "markdown",
   "id": "c3fcf3ef",
   "metadata": {},
   "source": [
    "#### Performance with \"entropy\" criterion with random split"
   ]
  },
  {
   "cell_type": "code",
   "execution_count": 40,
   "id": "93ff64ec",
   "metadata": {},
   "outputs": [
    {
     "data": {
      "text/plain": [
       "0.9006"
      ]
     },
     "execution_count": 40,
     "metadata": {},
     "output_type": "execute_result"
    }
   ],
   "source": [
    "clf_DT=tree.DecisionTreeClassifier(criterion='entropy',splitter='random')\n",
    "clf_DT = clf_DT.fit(X_train_flt,Y_train)\n",
    "Y_valid_pred = clf_DT.predict(X_validation_flt)\n",
    "metrics.accuracy_score(Y_validation,Y_valid_pred)"
   ]
  },
  {
   "cell_type": "markdown",
   "id": "4edefbd1",
   "metadata": {},
   "source": [
    "#### Performance with \"entropy\" criterion with random split with depth of 20"
   ]
  },
  {
   "cell_type": "code",
   "execution_count": 42,
   "id": "10edf4d7",
   "metadata": {},
   "outputs": [
    {
     "data": {
      "text/plain": [
       "0.8944"
      ]
     },
     "execution_count": 42,
     "metadata": {},
     "output_type": "execute_result"
    }
   ],
   "source": [
    "clf_DT=tree.DecisionTreeClassifier(criterion='entropy',splitter='random', max_depth=20)\n",
    "clf_DT = clf_DT.fit(X_train_flt,Y_train)\n",
    "Y_valid_pred = clf_DT.predict(X_validation_flt)\n",
    "metrics.accuracy_score(Y_validation,Y_valid_pred)"
   ]
  },
  {
   "cell_type": "markdown",
   "id": "47bc4622",
   "metadata": {},
   "source": [
    "### Performance check on Test set with the best performance hyperparameters "
   ]
  },
  {
   "cell_type": "code",
   "execution_count": 44,
   "id": "ad06ae79",
   "metadata": {},
   "outputs": [
    {
     "data": {
      "text/plain": [
       "0.8762"
      ]
     },
     "execution_count": 44,
     "metadata": {},
     "output_type": "execute_result"
    }
   ],
   "source": [
    "clf_DT=tree.DecisionTreeClassifier(criterion=\"entropy\", splitter='random')\n",
    "clf_DT = clf_DT.fit(X_train_flt,Y_train)\n",
    "Y_test_pred = clf_DT.predict(X_test_flt)\n",
    "metrics.accuracy_score(Y_test,Y_test_pred)"
   ]
  },
  {
   "cell_type": "markdown",
   "id": "e1e554a2",
   "metadata": {},
   "source": [
    "## Training K-Nearest Neighbors Classifier"
   ]
  },
  {
   "cell_type": "markdown",
   "id": "eaddfb8f",
   "metadata": {},
   "source": [
    "### Performance check on Validation set"
   ]
  },
  {
   "cell_type": "markdown",
   "id": "420b193f",
   "metadata": {},
   "source": [
    "#### With 1-Nearest Neighbors"
   ]
  },
  {
   "cell_type": "code",
   "execution_count": 45,
   "id": "c2beb4cb",
   "metadata": {},
   "outputs": [
    {
     "data": {
      "text/plain": [
       "0.977"
      ]
     },
     "execution_count": 45,
     "metadata": {},
     "output_type": "execute_result"
    }
   ],
   "source": [
    "clf_KNN=KNeighborsClassifier(n_neighbors=1)\n",
    "clf_KNN = clf_KNN.fit(X_train_flt,Y_train)\n",
    "Y_valid_pred = clf_KNN.predict(X_validation_flt)\n",
    "metrics.accuracy_score(Y_validation,Y_valid_pred)"
   ]
  },
  {
   "cell_type": "markdown",
   "id": "62e919ad",
   "metadata": {},
   "source": [
    "#### With 3-Nearest Neighbors"
   ]
  },
  {
   "cell_type": "code",
   "execution_count": 46,
   "id": "d816600d",
   "metadata": {},
   "outputs": [
    {
     "data": {
      "text/plain": [
       "0.9782"
      ]
     },
     "execution_count": 46,
     "metadata": {},
     "output_type": "execute_result"
    }
   ],
   "source": [
    "clf_KNN=KNeighborsClassifier(n_neighbors=3)\n",
    "clf_KNN = clf_KNN.fit(X_train_flt,Y_train)\n",
    "Y_valid_pred = clf_KNN.predict(X_validation_flt)\n",
    "metrics.accuracy_score(Y_validation,Y_valid_pred)"
   ]
  },
  {
   "cell_type": "markdown",
   "id": "acd158f9",
   "metadata": {},
   "source": [
    "#### With 5-Nearest Neighbors"
   ]
  },
  {
   "cell_type": "code",
   "execution_count": 47,
   "id": "79aa0dac",
   "metadata": {},
   "outputs": [
    {
     "data": {
      "text/plain": [
       "0.9776"
      ]
     },
     "execution_count": 47,
     "metadata": {},
     "output_type": "execute_result"
    }
   ],
   "source": [
    "clf_KNN=KNeighborsClassifier(n_neighbors=5)\n",
    "clf_KNN = clf_KNN.fit(X_train_flt,Y_train)\n",
    "Y_valid_pred = clf_KNN.predict(X_validation_flt)\n",
    "metrics.accuracy_score(Y_validation,Y_valid_pred)"
   ]
  },
  {
   "cell_type": "markdown",
   "id": "51904d71",
   "metadata": {},
   "source": [
    "#### With 15-Nearest Neighbors"
   ]
  },
  {
   "cell_type": "code",
   "execution_count": 48,
   "id": "af2cd1f8",
   "metadata": {},
   "outputs": [
    {
     "data": {
      "text/plain": [
       "0.9754"
      ]
     },
     "execution_count": 48,
     "metadata": {},
     "output_type": "execute_result"
    }
   ],
   "source": [
    "clf_KNN=KNeighborsClassifier(n_neighbors=15)\n",
    "clf_KNN = clf_KNN.fit(X_train_flt,Y_train)\n",
    "Y_valid_pred = clf_KNN.predict(X_validation_flt)\n",
    "metrics.accuracy_score(Y_validation,Y_valid_pred)"
   ]
  },
  {
   "cell_type": "markdown",
   "id": "bd30312e",
   "metadata": {},
   "source": [
    "#### With 5-Nearest Neighbors, 'distance' type weight function and  p=1 power parameter for Minkowski metric(Manhattan distance)"
   ]
  },
  {
   "cell_type": "code",
   "execution_count": 49,
   "id": "0704d4a5",
   "metadata": {},
   "outputs": [
    {
     "data": {
      "text/plain": [
       "0.9748"
      ]
     },
     "execution_count": 49,
     "metadata": {},
     "output_type": "execute_result"
    }
   ],
   "source": [
    "clf_KNN=KNeighborsClassifier(n_neighbors=5, weights='distance',p=1)\n",
    "clf_KNN = clf_KNN.fit(X_train_flt,Y_train)\n",
    "Y_valid_pred = clf_KNN.predict(X_validation_flt)\n",
    "metrics.accuracy_score(Y_validation,Y_valid_pred)"
   ]
  },
  {
   "cell_type": "markdown",
   "id": "714f931a",
   "metadata": {},
   "source": [
    "#### With 5-Nearest Neighbors and  p=1 power parameter for Minkowski metric(Manhattan distance)"
   ]
  },
  {
   "cell_type": "code",
   "execution_count": 50,
   "id": "0b946da4",
   "metadata": {},
   "outputs": [
    {
     "data": {
      "text/plain": [
       "0.974"
      ]
     },
     "execution_count": 50,
     "metadata": {},
     "output_type": "execute_result"
    }
   ],
   "source": [
    "clf_KNN=KNeighborsClassifier(n_neighbors=5,p=1)\n",
    "clf_KNN = clf_KNN.fit(X_train_flt,Y_train)\n",
    "Y_valid_pred = clf_KNN.predict(X_validation_flt)\n",
    "metrics.accuracy_score(Y_validation,Y_valid_pred)"
   ]
  },
  {
   "cell_type": "markdown",
   "id": "847c33e4",
   "metadata": {},
   "source": [
    "#### With 5-Nearest Neighbors and 'distance' type weight function"
   ]
  },
  {
   "cell_type": "code",
   "execution_count": 51,
   "id": "75642c0f",
   "metadata": {},
   "outputs": [
    {
     "data": {
      "text/plain": [
       "0.9782"
      ]
     },
     "execution_count": 51,
     "metadata": {},
     "output_type": "execute_result"
    }
   ],
   "source": [
    "clf_KNN=KNeighborsClassifier(n_neighbors=5, weights='distance')\n",
    "clf_KNN = clf_KNN.fit(X_train_flt,Y_train)\n",
    "Y_valid_pred = clf_KNN.predict(X_validation_flt)\n",
    "metrics.accuracy_score(Y_validation,Y_valid_pred)"
   ]
  },
  {
   "cell_type": "markdown",
   "id": "f19704fd",
   "metadata": {},
   "source": [
    "#### With 3-Nearest Neighbors and 'distance' type weight function"
   ]
  },
  {
   "cell_type": "code",
   "execution_count": 52,
   "id": "ccebfd6a",
   "metadata": {},
   "outputs": [
    {
     "data": {
      "text/plain": [
       "0.9786"
      ]
     },
     "execution_count": 52,
     "metadata": {},
     "output_type": "execute_result"
    }
   ],
   "source": [
    "clf_KNN=KNeighborsClassifier(n_neighbors=3, weights='distance')\n",
    "clf_KNN = clf_KNN.fit(X_train_flt,Y_train)\n",
    "Y_valid_pred = clf_KNN.predict(X_validation_flt)\n",
    "metrics.accuracy_score(Y_validation,Y_valid_pred)"
   ]
  },
  {
   "cell_type": "markdown",
   "id": "8957eaa0",
   "metadata": {},
   "source": [
    "### Performance check on Test set with the best performance hyperparameters "
   ]
  },
  {
   "cell_type": "code",
   "execution_count": 54,
   "id": "adc504c0",
   "metadata": {},
   "outputs": [
    {
     "data": {
      "text/plain": [
       "0.9685"
      ]
     },
     "execution_count": 54,
     "metadata": {},
     "output_type": "execute_result"
    }
   ],
   "source": [
    "clf_KNN = KNeighborsClassifier(n_neighbors=3, weights='distance')\n",
    "clf_KNN = clf_KNN.fit(X_train_flt,Y_train_encd)\n",
    "Y_test_pred = clf_KNN.predict(X_test_flt)\n",
    "metrics.accuracy_score(Y_test_encd,Y_test_pred)"
   ]
  },
  {
   "cell_type": "markdown",
   "id": "7a4af573",
   "metadata": {},
   "source": [
    "## Training Gaussian Niave Bayes Classifier"
   ]
  },
  {
   "cell_type": "markdown",
   "id": "666838f7",
   "metadata": {},
   "source": [
    "### Performance check on Validation set"
   ]
  },
  {
   "cell_type": "markdown",
   "id": "243ef180",
   "metadata": {},
   "source": [
    "#### With var_smooth = 1e-9 (default) "
   ]
  },
  {
   "cell_type": "code",
   "execution_count": 70,
   "id": "e9f53265",
   "metadata": {},
   "outputs": [
    {
     "data": {
      "text/plain": [
       "0.567"
      ]
     },
     "execution_count": 70,
     "metadata": {},
     "output_type": "execute_result"
    }
   ],
   "source": [
    "clf_GNB=GaussianNB()\n",
    "clf_GNB = clf_GNB.fit(X_train_flt,Y_train)\n",
    "Y_valid_pred = clf_GNB.predict(X_validation_flt)\n",
    "metrics.accuracy_score(Y_validation,Y_valid_pred)"
   ]
  },
  {
   "cell_type": "markdown",
   "id": "1a7c3f78",
   "metadata": {},
   "source": [
    "#### With var_smooth = 1e-7"
   ]
  },
  {
   "cell_type": "code",
   "execution_count": 73,
   "id": "9daffd7f",
   "metadata": {},
   "outputs": [
    {
     "data": {
      "text/plain": [
       "0.602"
      ]
     },
     "execution_count": 73,
     "metadata": {},
     "output_type": "execute_result"
    }
   ],
   "source": [
    "clf_GNB=GaussianNB(var_smoothing=1e-7)\n",
    "clf_GNB = clf_GNB.fit(X_train_flt,Y_train)\n",
    "Y_valid_pred = clf_GNB.predict(X_validation_flt)\n",
    "metrics.accuracy_score(Y_validation,Y_valid_pred)"
   ]
  },
  {
   "cell_type": "markdown",
   "id": "23b813fe",
   "metadata": {},
   "source": [
    "#### With var_smooth = 1e-5"
   ]
  },
  {
   "cell_type": "code",
   "execution_count": 75,
   "id": "ef5dcf99",
   "metadata": {},
   "outputs": [
    {
     "data": {
      "text/plain": [
       "0.6544"
      ]
     },
     "execution_count": 75,
     "metadata": {},
     "output_type": "execute_result"
    }
   ],
   "source": [
    "clf_GNB=GaussianNB(var_smoothing=1e-5)\n",
    "clf_GNB = clf_GNB.fit(X_train_flt,Y_train)\n",
    "Y_valid_pred = clf_GNB.predict(X_validation_flt)\n",
    "metrics.accuracy_score(Y_validation,Y_valid_pred)"
   ]
  },
  {
   "cell_type": "markdown",
   "id": "8c2d3db2",
   "metadata": {},
   "source": [
    "#### With var_smooth = 1e-3"
   ]
  },
  {
   "cell_type": "code",
   "execution_count": 77,
   "id": "c392412e",
   "metadata": {},
   "outputs": [
    {
     "data": {
      "text/plain": [
       "0.7636"
      ]
     },
     "execution_count": 77,
     "metadata": {},
     "output_type": "execute_result"
    }
   ],
   "source": [
    "clf_GNB=GaussianNB(var_smoothing=1e-3)\n",
    "clf_GNB = clf_GNB.fit(X_train_flt,Y_train)\n",
    "Y_valid_pred = clf_GNB.predict(X_validation_flt)\n",
    "metrics.accuracy_score(Y_validation,Y_valid_pred)"
   ]
  },
  {
   "cell_type": "markdown",
   "id": "1ddea7fe",
   "metadata": {},
   "source": [
    "#### With var_smooth = 1e-2"
   ]
  },
  {
   "cell_type": "code",
   "execution_count": 78,
   "id": "ff342e2c",
   "metadata": {},
   "outputs": [
    {
     "data": {
      "text/plain": [
       "0.8142"
      ]
     },
     "execution_count": 78,
     "metadata": {},
     "output_type": "execute_result"
    }
   ],
   "source": [
    "clf_GNB=GaussianNB(var_smoothing=1e-2)\n",
    "clf_GNB = clf_GNB.fit(X_train_flt,Y_train)\n",
    "Y_valid_pred = clf_GNB.predict(X_validation_flt)\n",
    "metrics.accuracy_score(Y_validation,Y_valid_pred)"
   ]
  },
  {
   "cell_type": "markdown",
   "id": "3861d109",
   "metadata": {},
   "source": [
    "#### With var_smooth = 1e-1"
   ]
  },
  {
   "cell_type": "code",
   "execution_count": 79,
   "id": "1ed4cad8",
   "metadata": {},
   "outputs": [
    {
     "data": {
      "text/plain": [
       "0.8374"
      ]
     },
     "execution_count": 79,
     "metadata": {},
     "output_type": "execute_result"
    }
   ],
   "source": [
    "clf_GNB=GaussianNB(var_smoothing=1e-1)\n",
    "clf_GNB = clf_GNB.fit(X_train_flt,Y_train)\n",
    "Y_valid_pred = clf_GNB.predict(X_validation_flt)\n",
    "metrics.accuracy_score(Y_validation,Y_valid_pred)"
   ]
  },
  {
   "cell_type": "markdown",
   "id": "7938a3c4",
   "metadata": {},
   "source": [
    "### Performance check on Test set with the best performance hyperparameters "
   ]
  },
  {
   "cell_type": "code",
   "execution_count": 84,
   "id": "a2b824da",
   "metadata": {},
   "outputs": [
    {
     "data": {
      "text/plain": [
       "0.8153"
      ]
     },
     "execution_count": 84,
     "metadata": {},
     "output_type": "execute_result"
    }
   ],
   "source": [
    "clf_GNB=GaussianNB(var_smoothing=1e-1)\n",
    "clf_GNB = clf_GNB.fit(X_train_flt,Y_train)\n",
    "Y_test_pred = clf_GNB.predict(X_test_flt)\n",
    "metrics.accuracy_score(Y_test,Y_test_pred)"
   ]
  },
  {
   "cell_type": "markdown",
   "id": "be783770",
   "metadata": {},
   "source": [
    "## Training Support Vector Machine (SVC and LinearSVC) Classifier"
   ]
  },
  {
   "cell_type": "markdown",
   "id": "b56c09d5",
   "metadata": {},
   "source": [
    "### Performance check on Validation set"
   ]
  },
  {
   "cell_type": "markdown",
   "id": "2bebece7",
   "metadata": {},
   "source": [
    "#### SVC With default parameters"
   ]
  },
  {
   "cell_type": "code",
   "execution_count": 94,
   "id": "505d57dd",
   "metadata": {},
   "outputs": [
    {
     "data": {
      "text/plain": [
       "0.9844"
      ]
     },
     "execution_count": 94,
     "metadata": {},
     "output_type": "execute_result"
    }
   ],
   "source": [
    "clf_SVM=SVC()\n",
    "clf_SVM = clf_SVM.fit(X_train_flt,Y_train)\n",
    "Y_valid_pred = clf_SVM.predict(X_validation_flt)\n",
    "metrics.accuracy_score(Y_validation,Y_valid_pred)"
   ]
  },
  {
   "cell_type": "markdown",
   "id": "eae2df0a",
   "metadata": {},
   "source": [
    "#### SVC With polynomial kernel"
   ]
  },
  {
   "cell_type": "code",
   "execution_count": 96,
   "id": "8323dc24",
   "metadata": {},
   "outputs": [
    {
     "data": {
      "text/plain": [
       "0.9834"
      ]
     },
     "execution_count": 96,
     "metadata": {},
     "output_type": "execute_result"
    }
   ],
   "source": [
    "clf_SVM=SVC(kernel='poly')\n",
    "clf_SVM = clf_SVM.fit(X_train_flt,Y_train)\n",
    "Y_valid_pred = clf_SVM.predict(X_validation_flt)\n",
    "metrics.accuracy_score(Y_validation,Y_valid_pred)"
   ]
  },
  {
   "cell_type": "markdown",
   "id": "e17395e4",
   "metadata": {},
   "source": [
    "#### LinearSVC with default parameters"
   ]
  },
  {
   "cell_type": "code",
   "execution_count": 99,
   "id": "7388be30",
   "metadata": {
    "scrolled": true
   },
   "outputs": [
    {
     "name": "stderr",
     "output_type": "stream",
     "text": [
      "C:\\Users\\arsha\\anaconda3\\envs\\tf\\lib\\site-packages\\sklearn\\svm\\_base.py:1206: ConvergenceWarning: Liblinear failed to converge, increase the number of iterations.\n",
      "  warnings.warn(\n"
     ]
    },
    {
     "data": {
      "text/plain": [
       "0.9844"
      ]
     },
     "execution_count": 99,
     "metadata": {},
     "output_type": "execute_result"
    }
   ],
   "source": [
    "clf_SVM2=LinearSVC()\n",
    "clf_SVM2 = clf_SVM2.fit(X_train_flt,Y_train)\n",
    "Y_valid_pred = clf_SVM.predict(X_validation_flt)\n",
    "metrics.accuracy_score(Y_validation,Y_valid_pred)"
   ]
  },
  {
   "cell_type": "code",
   "execution_count": 100,
   "id": "d7ac702d",
   "metadata": {},
   "outputs": [
    {
     "data": {
      "text/plain": [
       "0.9844"
      ]
     },
     "execution_count": 100,
     "metadata": {},
     "output_type": "execute_result"
    }
   ],
   "source": [
    "clf_SVM2=LinearSVC(dual=False)\n",
    "clf_SVM2 = clf_SVM2.fit(X_train_flt,Y_train)\n",
    "Y_valid_pred = clf_SVM.predict(X_validation_flt)\n",
    "metrics.accuracy_score(Y_validation,Y_valid_pred)"
   ]
  },
  {
   "cell_type": "markdown",
   "id": "689a8294",
   "metadata": {},
   "source": [
    "### Performance check on Test set with the default hyperparameters "
   ]
  },
  {
   "cell_type": "code",
   "execution_count": 97,
   "id": "baaa3976",
   "metadata": {},
   "outputs": [
    {
     "data": {
      "text/plain": [
       "0.9786"
      ]
     },
     "execution_count": 97,
     "metadata": {},
     "output_type": "execute_result"
    }
   ],
   "source": [
    "clf_SVM=SVC()\n",
    "clf_SVM = clf_SVM.fit(X_train_flt,Y_train)\n",
    "Y_test_pred = clf_SVM.predict(X_test_flt)\n",
    "metrics.accuracy_score(Y_test,Y_test_pred)"
   ]
  },
  {
   "cell_type": "markdown",
   "id": "47ff61ad",
   "metadata": {},
   "source": [
    "## Ensemble Classifier"
   ]
  },
  {
   "cell_type": "markdown",
   "id": "ae50032a",
   "metadata": {},
   "source": [
    "#### Defining classifiers with their best hyperparameters to be used in Ensemble"
   ]
  },
  {
   "cell_type": "code",
   "execution_count": 103,
   "id": "c2e7f1ae",
   "metadata": {},
   "outputs": [],
   "source": [
    "clf_DT=tree.DecisionTreeClassifier(criterion=\"entropy\", splitter='random')\n",
    "clf_KNN = KNeighborsClassifier(n_neighbors=3, weights='distance')\n",
    "clf_GNB=GaussianNB(var_smoothing=1e-1)\n",
    "clf_SVM=SVC()"
   ]
  },
  {
   "cell_type": "markdown",
   "id": "13f41847",
   "metadata": {},
   "source": [
    "#### Building Ensemble Classifier with \"Hard\" voting"
   ]
  },
  {
   "cell_type": "code",
   "execution_count": 104,
   "id": "8388c027",
   "metadata": {},
   "outputs": [],
   "source": [
    "hard_voting_clf = VotingClassifier(\n",
    "    estimators=[\n",
    "        ('dt', clf_DT),\n",
    "        ('knn', clf_KNN),\n",
    "        ('gnb', clf_GNB),\n",
    "        ('svm', clf_SVM)],\n",
    "    voting='hard'    \n",
    ")"
   ]
  },
  {
   "cell_type": "code",
   "execution_count": 105,
   "id": "767df93a",
   "metadata": {},
   "outputs": [
    {
     "data": {
      "text/plain": [
       "0.9674"
      ]
     },
     "execution_count": 105,
     "metadata": {},
     "output_type": "execute_result"
    }
   ],
   "source": [
    "hard_voting_clf.fit(X_train_flt, Y_train)\n",
    "Y_test_pred = hard_voting_clf.predict(X_test_flt)\n",
    "metrics.accuracy_score(Y_test,Y_test_pred)"
   ]
  },
  {
   "cell_type": "markdown",
   "id": "8ce8ed98",
   "metadata": {},
   "source": [
    "#### Building Ensemble Classifier with \"Soft\" voting"
   ]
  },
  {
   "cell_type": "code",
   "execution_count": 112,
   "id": "641137c8",
   "metadata": {},
   "outputs": [],
   "source": [
    "soft_voting_clf = VotingClassifier(\n",
    "    estimators=[\n",
    "        ('dt', clf_DT),\n",
    "        ('knn', clf_KNN),\n",
    "        ('gnb', clf_GNB),\n",
    "        ('svm', clf_SVM)],\n",
    "    voting='soft'    \n",
    ")"
   ]
  },
  {
   "cell_type": "code",
   "execution_count": 113,
   "id": "2b9453c2",
   "metadata": {},
   "outputs": [],
   "source": [
    "soft_voting_clf.named_estimators['svm'].probability=True"
   ]
  },
  {
   "cell_type": "code",
   "execution_count": 114,
   "id": "f08e6459",
   "metadata": {},
   "outputs": [
    {
     "data": {
      "text/plain": [
       "0.9638"
      ]
     },
     "execution_count": 114,
     "metadata": {},
     "output_type": "execute_result"
    }
   ],
   "source": [
    "soft_voting_clf.fit(X_train_flt, Y_train)\n",
    "Y_test_pred_soft = soft_voting_clf.predict(X_test_flt)\n",
    "metrics.accuracy_score(Y_test,Y_test_pred_soft)"
   ]
  },
  {
   "cell_type": "markdown",
   "id": "679b1d32",
   "metadata": {},
   "source": [
    "### Building Ensemble classifier with \"Hard\" voting to train on full trianing set (train and validation combined) "
   ]
  },
  {
   "cell_type": "code",
   "execution_count": 122,
   "id": "7a9328c3",
   "metadata": {},
   "outputs": [],
   "source": [
    "hard_voting_clf_2 = VotingClassifier(\n",
    "    estimators=[\n",
    "        ('dt', clf_DT),\n",
    "        ('knn', clf_KNN),\n",
    "        ('gnb', clf_GNB),\n",
    "        ('svm', clf_SVM)],\n",
    "    voting='hard'    \n",
    ")"
   ]
  },
  {
   "cell_type": "code",
   "execution_count": 123,
   "id": "a33d0587",
   "metadata": {},
   "outputs": [
    {
     "data": {
      "text/plain": [
       "0.9689"
      ]
     },
     "execution_count": 123,
     "metadata": {},
     "output_type": "execute_result"
    }
   ],
   "source": [
    "hard_voting_clf_2.fit(full_X_train, full_Y_train)\n",
    "Y_test_pred_full = hard_voting_clf_2.predict(X_test_flt)\n",
    "metrics.accuracy_score(Y_test,Y_test_pred_full)"
   ]
  },
  {
   "cell_type": "markdown",
   "id": "1f7a06d8",
   "metadata": {},
   "source": [
    "### Extra: Evaluation of wrongly predicted datapoints "
   ]
  },
  {
   "cell_type": "code",
   "execution_count": 124,
   "id": "1d05a3fa",
   "metadata": {},
   "outputs": [],
   "source": [
    "wrong_Pred_List=[]\n",
    "\n",
    "for i in range(10000):\n",
    "    if Y_test_pred_full[i]!=Y_test[i]:\n",
    "        wrong_Pred_List.append(i)"
   ]
  },
  {
   "cell_type": "code",
   "execution_count": 130,
   "id": "8770ba55",
   "metadata": {
    "scrolled": true
   },
   "outputs": [
    {
     "data": {
      "image/png": "[encoded data removed]",
      "text/plain": [
       "<Figure size 432x288 with 20 Axes>"
      ]
     },
     "metadata": {
      "needs_background": "light"
     },
     "output_type": "display_data"
    },
    {
     "name": "stdout",
     "output_type": "stream",
     "text": [
      "[[5 7 0 0 3]\n",
      " [1 4 9 4 8]\n",
      " [3 0 1 9 2]\n",
      " [0 2 1 1 9]]\n"
     ]
    },
    {
     "data": {
      "text/plain": [
       "[5138,\n",
       " 4176,\n",
       " 3558,\n",
       " 3893,\n",
       " 3597,\n",
       " 6576,\n",
       " 2695,\n",
       " 947,\n",
       " 9808,\n",
       " 241,\n",
       " 2559,\n",
       " 3801,\n",
       " 2533,\n",
       " 65,\n",
       " 4690,\n",
       " 6728,\n",
       " 5140,\n",
       " 1138,\n",
       " 4699,\n",
       " 740]"
      ]
     },
     "execution_count": 130,
     "metadata": {},
     "output_type": "execute_result"
    }
   ],
   "source": [
    "n_images = X_test.shape[0]\n",
    "n_rows=4\n",
    "n_cols=5\n",
    "pred_numbers=[]\n",
    "img_id = []\n",
    "for i in range(1,n_rows*n_cols+1):\n",
    "    idx = random.randint(0,len(wrong_Pred_List)-1)\n",
    "    im_idx =wrong_Pred_List[idx]\n",
    "    img_id.append(im_idx)\n",
    "    pixels=X_test[im_idx]\n",
    "    plt.subplot(n_rows, n_cols, i)\n",
    "    plt.imshow(pixels, cmap='gray')\n",
    "    plt.axis('off')\n",
    "    pred_numbers.append(Y_test_pred_full[im_idx])\n",
    "    \n",
    "plt.show()\n",
    "arr=np.array(pred_numbers)\n",
    "arr.shape = (4,5)\n",
    "print(arr)\n",
    "img_id"
   ]
  },
  {
   "cell_type": "code",
   "execution_count": 135,
   "id": "c8b68f39",
   "metadata": {
    "scrolled": false
   },
   "outputs": [
    {
     "data": {
      "image/png": "[encoded data removed]",
      "text/plain": [
       "<Figure size 432x288 with 1 Axes>"
      ]
     },
     "metadata": {
      "needs_background": "light"
     },
     "output_type": "display_data"
    },
    {
     "name": "stdout",
     "output_type": "stream",
     "text": [
      "2\n"
     ]
    }
   ],
   "source": [
    "n_images = X_test.shape[0]\n",
    "\n",
    "pixels = X_test[65]\n",
    "plt.imshow(pixels, cmap='gray')\n",
    "plt.axis('off')\n",
    "plt.show()\n",
    "print(Y_test_pred_full[1])"
   ]
  }
 ],
 "metadata": {
  "kernelspec": {
   "display_name": "Python 3 (ipykernel)",
   "language": "python",
   "name": "python3"
  },
  "language_info": {
   "codemirror_mode": {
    "name": "ipython",
    "version": 3
   },
   "file_extension": ".py",
   "mimetype": "text/x-python",
   "name": "python",
   "nbconvert_exporter": "python",
   "pygments_lexer": "ipython3",
   "version": "3.9.10"
  }
 },
 "nbformat": 4,
 "nbformat_minor": 5
}
